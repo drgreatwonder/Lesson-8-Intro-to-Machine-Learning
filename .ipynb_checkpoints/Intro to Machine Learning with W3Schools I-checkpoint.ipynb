{
 "cells": [
  {
   "cell_type": "markdown",
   "metadata": {},
   "source": [
    "# Introduction"
   ]
  },
  {
   "cell_type": "markdown",
   "metadata": {},
   "source": [
    "- Machine Learning is making the computer learn from studying data and statistics.\n",
    "\n",
    "* Machine Learning is a step into the direction of artificial intelligence (AI).\n",
    "\n",
    "+ Machine Learning is a program that analyses data and learns to predict the outcome.\n",
    "\n",
    "### Overview\n",
    "In this lesson, I will be:\n",
    "- going back to mathematics and study statistics, and see how to calculate important numbers based on data sets.\n",
    "\n",
    "+ learning how to use various Python modules to get the answers I need.\n",
    "\n",
    "* learning how to make functions that are able to predict the outcome based on what I've learned."
   ]
  },
  {
   "cell_type": "markdown",
   "metadata": {},
   "source": [
    "# Data Set\n",
    "In the mind of a computer, a **data set** is any collection of data. It can be anything from an array to a complete database. In Machine Learning it is common to work with very large data sets."
   ]
  },
  {
   "cell_type": "code",
   "execution_count": 2,
   "metadata": {},
   "outputs": [
    {
     "data": {
      "text/plain": [
       "[99, 86, 87, 88, 111, 86, 103, 87, 94, 78, 77, 85, 86]"
      ]
     },
     "execution_count": 2,
     "metadata": {},
     "output_type": "execute_result"
    }
   ],
   "source": [
    "# Example of an array:\n",
    "\n",
    "[99,86,87,88,111,86,103,87,94,78,77,85,86]"
   ]
  },
  {
   "cell_type": "markdown",
   "metadata": {},
   "source": [
    "Example of a database:\n",
    "\n",
    "|Carname\t| Color |\tAge |\tSpeed |\tAutoPass|\n",
    "|    :---:  |  :---:  |  :---:  | :---: | :---: |\n",
    "|BMW |\tred\t | 5\t| 99\t| Y|\n",
    "|Volvo\t| black |\t7 |\t86 |\tY|\n",
    "|VW\t| gray |\t8 |\t87 |\tN|\n",
    "|VW |\twhite |\t7 |\t88 |\tY|\n",
    "|Ford |\twhite |\t2 |\t111 |\tY|\n",
    "|VW |\twhite |\t17 |\t86 |\tY|\n",
    "|Tesla |\tred |\t2 |\t103 |\tY|\n",
    "|BMW |\tblack |\t9\t| 87\t| Y|\n",
    "|Volvo |\tgray |\t4 |\t94|\t N|\n",
    "|Ford |\twhite |\t11\t| 78\t| N|\n",
    "|Toyota|\tgray\t| 12\t| 77 |\tN|\n",
    "|VW | white| 9 |\t85\t| N|\n",
    "|Toyota |\tblue |\t6\t| 86\t| Y|\n"
   ]
  },
  {
   "cell_type": "markdown",
   "metadata": {},
   "source": [
    "By looking at the array, we can guess that the average value is probably around 80 or 90, and we are also able to determine the highest value and the lowest value, but what else can we do?\n",
    "\n",
    "And by looking at the database we can see that the most popular color is white, and the oldest car is 17 years, but what if we could predict if a car had an AutoPass, just by looking at the other values?\n",
    "\n",
    "That is what Machine Learning is for! Analyzing data and predicting the outcome!"
   ]
  },
  {
   "cell_type": "markdown",
   "metadata": {},
   "source": [
    "# Data Types\n",
    "To analyze data, it is important to know what type of data we are dealing with.\n",
    "\n",
    "We can split the data types into three main categories:\n",
    "\n",
    "1. Numerical\n",
    "2. Categorical\n",
    "3. Ordinal\n",
    "\n",
    "\n",
    "1. Numerical data are numbers, and can be split into two numerical categories:\n",
    "\n",
    "    * Discrete Data: numbers that are limited to integers. Example: The number of cars passing by.\n",
    "    - Continuous Data: numbers that are of infinite value. Example: The price of an item, or the size of an item\n",
    "\n",
    "\n",
    "2. Categorical data are values that cannot be measured up against each other. Example: a color value, or any yes/no values.\n",
    "\n",
    "3. Ordinal data are like categorical data, but can be measured up against each other. Example: school grades where A is better than B and so on.\n",
    "\n",
    "By knowing the data type of your data source, you will be able to know what technique to use when analyzing them.\n",
    "\n",
    "More on statistics and analyzing data as I go on."
   ]
  },
  {
   "cell_type": "markdown",
   "metadata": {},
   "source": [
    "# Mean, Median, and Mode\n",
    "What can we learn from looking at a group of numbers?\n",
    "\n",
    "In Machine Learning (and in mathematics) there are often three values that interests us:\n",
    "\n",
    "* Mean - The average value\n",
    "- Median - The mid point value\n",
    "+ Mode - The most common value\n",
    "\n",
    "Example: We have registered the speed of 13 cars:\n",
    "\n",
    "**speed = [99,86,87,88,111,86,103,87,94,78,77,85,86]**\n",
    "\n",
    "What is the average, the middle, or the most common speed value?"
   ]
  },
  {
   "cell_type": "code",
   "execution_count": 3,
   "metadata": {},
   "outputs": [],
   "source": [
    "speed = [99,86,87,88,111,86,103,87,94,78,77,85,86]"
   ]
  },
  {
   "cell_type": "markdown",
   "metadata": {},
   "source": [
    "### Mean\n",
    "The mean value is the average value.\n",
    "\n",
    "To calculate the mean, find the sum of all values, and divide the sum by the number of values:"
   ]
  },
  {
   "cell_type": "code",
   "execution_count": 4,
   "metadata": {},
   "outputs": [
    {
     "name": "stdout",
     "output_type": "stream",
     "text": [
      "89.76923076923077\n"
     ]
    }
   ],
   "source": [
    "# (99+86+87+88+111+86+103+87+94+78+77+85+86) / 13 = 89.77\n",
    "total = 99+86+87+88+111+86+103+87+94+78+77+85+86\n",
    "mean = total/13\n",
    "print(mean)"
   ]
  },
  {
   "cell_type": "markdown",
   "metadata": {},
   "source": [
    "The above can simply be solved using the python library NumPy:"
   ]
  },
  {
   "cell_type": "code",
   "execution_count": 6,
   "metadata": {},
   "outputs": [
    {
     "name": "stdout",
     "output_type": "stream",
     "text": [
      "89.76923076923077\n"
     ]
    }
   ],
   "source": [
    "import numpy as np\n",
    "\n",
    "mean_speed = np.mean(speed)\n",
    "\n",
    "print(mean_speed)"
   ]
  },
  {
   "cell_type": "markdown",
   "metadata": {},
   "source": [
    "### Median\n",
    "The median value is the value in the middle, after you have sorted all the values:\n",
    "\n",
    "77, 78, 85, 86, 86, 86, 87, 87, 88, 94, 99, 103, 111\n",
    "\n",
    "It is important that the numbers are sorted before you can find the median.\n",
    "\n",
    "The NumPy module has a method for this:"
   ]
  },
  {
   "cell_type": "code",
   "execution_count": 62,
   "metadata": {},
   "outputs": [
    {
     "name": "stdout",
     "output_type": "stream",
     "text": [
      "87.0 \n",
      "\n",
      "[ 77  78  85  86  86  86  87  87  88  94  99 103 111] \n",
      "\n",
      "87.0\n",
      "\n"
     ]
    }
   ],
   "source": [
    "import numpy\n",
    "\n",
    "speed = [99,86,87,88,111,86,103,87,94,78,77,85,86]\n",
    "\n",
    "x = numpy.median(speed)\n",
    "\n",
    "print(x, \"\\n\")\n",
    "\n",
    "# or but this second step is not necessary\n",
    "\n",
    "sort_speed = np.sort(speed)\n",
    "print(sort_speed, \"\\n\")\n",
    "\n",
    "median_speed = np.median(speed)\n",
    "print(median_speed)\n",
    "print()\n",
    "\n",
    "# median_sort_speed = np.sort(np.median(speed)) AxisError: axis -1 is out of bounds for array of dimension 0"
   ]
  },
  {
   "cell_type": "markdown",
   "metadata": {},
   "source": [
    "Remember when calculating the median, if there are two numbers in the middle, divide the sum of those numbers by two.\n",
    "\n",
    "speed = [77, 78, 85, 86, 86, 86, 87, 87, 94, 98, 99, 103]\n",
    "\n",
    "middle_number = (86 + 87) / 2"
   ]
  },
  {
   "cell_type": "markdown",
   "metadata": {},
   "source": [
    "### Mode\n",
    "The Mode value is the value that appears the most number of times:\n",
    "\n",
    "99, 86, 87, 88, 111, 86, 103, 87, 94, 78, 77, 85, 86 = 86\n",
    "\n",
    "The **SciPy module** has a method for this:"
   ]
  },
  {
   "cell_type": "code",
   "execution_count": 68,
   "metadata": {},
   "outputs": [
    {
     "name": "stdout",
     "output_type": "stream",
     "text": [
      "ModeResult(mode=array([86]), count=array([3]))\n"
     ]
    }
   ],
   "source": [
    "from scipy import stats\n",
    "\n",
    "x = stats.mode(speed)\n",
    "print(x)"
   ]
  },
  {
   "cell_type": "markdown",
   "metadata": {},
   "source": [
    "# Standard Deviation"
   ]
  },
  {
   "cell_type": "markdown",
   "metadata": {},
   "source": [
    "#### What is Standard Deviation?\n",
    "Standard deviation is a number that describes how spread out the values are.\n",
    "\n",
    "**A low standard deviation means that most of the numbers are close to the mean (average) value.**\n",
    "\n",
    "**A high standard deviation means that the values are spread out over a wider range.**\n",
    "\n",
    "Example: This time we have registered the speed of 7 cars:\n",
    "\n",
    "speed = [86,87,88,86,87,85,86]\n",
    "\n",
    "The standard deviation is:\n",
    "\n",
    "0.9\n",
    "\n",
    "Meaning that **most of the values are within the range of 0.9 from the mean value, which is 86.4.**\n",
    "\n",
    "Let us do the same with a selection of numbers with a wider range:\n",
    "\n",
    "speed = [32,111,138,28,59,77,97]\n",
    "\n",
    "The standard deviation is:\n",
    "\n",
    "37.85\n",
    "\n",
    "Meaning that **most of the values are within the range of 37.85 from the mean value, which is 77.4.**\n",
    "\n",
    "As you can see, a higher standard deviation indicates that the values are spread out over a wider range.\n",
    "\n",
    "The NumPy module has a method to calculate the standard deviation:\n",
    "\n"
   ]
  },
  {
   "cell_type": "code",
   "execution_count": 40,
   "metadata": {},
   "outputs": [
    {
     "name": "stdout",
     "output_type": "stream",
     "text": [
      "0.9035079029052513\n",
      "\n",
      "37.84501153334721\n"
     ]
    }
   ],
   "source": [
    "low_std_speed = [86,87,88,86,87,85,86]\n",
    "\n",
    "x = np.std(low_std_speed)\n",
    "print(x)\n",
    "print()\n",
    "\n",
    "high_std_speed = [32,111,138,28,59,77,97]\n",
    "\n",
    "y = np.std(high_std_speed)\n",
    "print(y)"
   ]
  },
  {
   "cell_type": "markdown",
   "metadata": {},
   "source": [
    "# Variance\n",
    "Variance is another number that indicates how spread out the values are.\n",
    "\n",
    "In fact, if you take the **square root of the variance,** you get the standard deviation!\n",
    "\n",
    "Or the other way around, if you **multiply the standard deviation by itself,** you get the variance!\n",
    "\n",
    "To calculate the variance you have to do as follows:\n",
    "\n",
    "1. Find the mean:"
   ]
  },
  {
   "cell_type": "code",
   "execution_count": 42,
   "metadata": {},
   "outputs": [
    {
     "name": "stdout",
     "output_type": "stream",
     "text": [
      "77.42857142857143\n"
     ]
    }
   ],
   "source": [
    "mean = (32+111+138+28+59+77+97) / 7\n",
    "print(mean)"
   ]
  },
  {
   "cell_type": "markdown",
   "metadata": {},
   "source": [
    "2. For each value, find the difference from the mean:\n",
    "\n",
    "` 32 - 77.4 = -45.4\n",
    "111 - 77.4 =  33.6\n",
    "138 - 77.4 =  60.6\n",
    " 28 - 77.4 = -49.4\n",
    " 59 - 77.4 = -18.4\n",
    " 77 - 77.4 = - 0.4\n",
    " 97 - 77.4 =  19.6`"
   ]
  },
  {
   "cell_type": "markdown",
   "metadata": {},
   "source": [
    "3. For each difference, find the square value:\n",
    "\n",
    "$(-45.4)^{2}$ = 2061.16\n",
    "\n",
    "$(33.6)^{2}$ = 1128.96\n",
    "\n",
    "$(60.6)^{2}$ = 3672.36\n",
    "\n",
    "$(-49.4)^{2}$ = 2440.36\n",
    "\n",
    "$(-18.4)^{2}$ =  338.56\n",
    "\n",
    "$(- 0.4)^{2}$ =    0.16\n",
    "\n",
    "$(19.6)^{2}$ =  384.16\n",
    " \n",
    " \n",
    " 4. The variance is the average number of these squared differences:"
   ]
  },
  {
   "cell_type": "code",
   "execution_count": 70,
   "metadata": {},
   "outputs": [
    {
     "data": {
      "text/plain": [
       "1432.2457142857143"
      ]
     },
     "execution_count": 70,
     "metadata": {},
     "output_type": "execute_result"
    }
   ],
   "source": [
    "(2061.16+1128.96+3672.36+2440.36+338.56+0.16+384.16) / 7"
   ]
  },
  {
   "cell_type": "markdown",
   "metadata": {},
   "source": [
    "##### Summary of Calculating the variance\n",
    "1. Find the mean\n",
    "2. For each value, find the difference from the mean\n",
    "3. For each difference, find the square value:\n",
    "4. The variance is the average number of these squared differences:"
   ]
  },
  {
   "cell_type": "markdown",
   "metadata": {},
   "source": [
    "Luckily, NumPy has a method to calculate the variance:"
   ]
  },
  {
   "cell_type": "code",
   "execution_count": 54,
   "metadata": {},
   "outputs": [
    {
     "name": "stdout",
     "output_type": "stream",
     "text": [
      "1432.2448979591834\n"
     ]
    }
   ],
   "source": [
    "z = np.var(speed)\n",
    "print(z)"
   ]
  },
  {
   "cell_type": "markdown",
   "metadata": {},
   "source": [
    "As we have learned, the formula to find the standard deviation is the square root of the variance:\n",
    "\n",
    "var = √1432.25 = 37.85\n",
    "\n",
    "Or, as in the example from before, use the NumPy to calculate the standard deviation:"
   ]
  },
  {
   "cell_type": "code",
   "execution_count": 52,
   "metadata": {},
   "outputs": [
    {
     "name": "stdout",
     "output_type": "stream",
     "text": [
      "37.84501153334721\n"
     ]
    }
   ],
   "source": [
    "speed = [32,111,138,28,59,77,97]\n",
    "\n",
    "x = numpy.std(speed)\n",
    "\n",
    "print(x)"
   ]
  },
  {
   "cell_type": "markdown",
   "metadata": {},
   "source": [
    "#### Symbols\n",
    "Standard Deviation is often represented by the symbol Sigma: $\\sigma$\n",
    "\n",
    "Variance is often represented by the symbol Sigma Square: $\\sigma^{2}$\n",
    "\n"
   ]
  },
  {
   "cell_type": "code",
   "execution_count": 71,
   "metadata": {},
   "outputs": [],
   "source": [
    "# N/B: just a side note for me on markdown language:\n",
    "\n",
    "# Latex subscript:\n",
    "# $x_{2}$\n",
    "\n",
    "# Latex superscript:\n",
    "# $x^{2}$\n",
    "\n",
    "# Latex for the sigma symbol:\n",
    "# $\\sigma$\n",
    "\n",
    "# Latex for the sigma symbol with the raise to power symbol:\n",
    "#$\\sigma^{2}$"
   ]
  },
  {
   "cell_type": "markdown",
   "metadata": {},
   "source": [
    "# What are Percentiles?\n",
    "Percentiles are used in statistics to give you **a number that describes the value that a given percent of the values are lower than.**\n",
    "\n",
    "Example: Let's say we have an array of the ages of all the people that lives in a street.\n",
    "\n",
    "ages = [5,31,43,48,50,41,7,11,15,39,80,82,32,2,8,6,25,36,27,61,31]\n",
    "\n",
    "What is the 75. percentile? The answer is 43, meaning that 75% of the people are 43 or younger. We use the NumPy percentile() method to find the percentiles:\n",
    "\n",
    "The NumPy module has a method for finding the specified percentile:"
   ]
  },
  {
   "cell_type": "code",
   "execution_count": 72,
   "metadata": {},
   "outputs": [
    {
     "name": "stdout",
     "output_type": "stream",
     "text": [
      "43.0\n"
     ]
    }
   ],
   "source": [
    "ages = [5,31,43,48,50,41,7,11,15,39,80,82,32,2,8,6,25,36,27,61,31]\n",
    "\n",
    "x = numpy.percentile(ages, 75)\n",
    "\n",
    "print(x)"
   ]
  },
  {
   "cell_type": "code",
   "execution_count": 73,
   "metadata": {},
   "outputs": [
    {
     "name": "stdout",
     "output_type": "stream",
     "text": [
      "61.0\n"
     ]
    }
   ],
   "source": [
    "# What is the age that 90% of the people are younger than?\n",
    "\n",
    "y = np.percentile (ages, 90)\n",
    "\n",
    "print(y)"
   ]
  }
 ],
 "metadata": {
  "kernelspec": {
   "display_name": "Python 3",
   "language": "python",
   "name": "python3"
  },
  "language_info": {
   "codemirror_mode": {
    "name": "ipython",
    "version": 3
   },
   "file_extension": ".py",
   "mimetype": "text/x-python",
   "name": "python",
   "nbconvert_exporter": "python",
   "pygments_lexer": "ipython3",
   "version": "3.7.5"
  }
 },
 "nbformat": 4,
 "nbformat_minor": 4
}
