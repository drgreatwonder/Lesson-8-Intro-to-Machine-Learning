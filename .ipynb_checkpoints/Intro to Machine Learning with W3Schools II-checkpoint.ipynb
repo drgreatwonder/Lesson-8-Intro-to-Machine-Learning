{
 "cells": [
  {
   "cell_type": "markdown",
   "metadata": {},
   "source": [
    "# Data Distribution"
   ]
  },
  {
   "cell_type": "markdown",
   "metadata": {},
   "source": [
    "I have worked with very small amounts of data with examples in Intro to Machine Learning with W3Schools II just to understand the different concepts.\n",
    " \n",
    "In the real world, the data sets are much bigger, but it can be difficult to gather real world data, at least at an early stage of a project.\n",
    "\n",
    "##### How Can we Get Big Data Sets?\n",
    "To create big data sets for testing, we use the Python module NumPy, which comes with a number of methods to create random data sets, of any size.\n",
    "\n",
    "Let me create an array containing 200 random floats between 0 and 5:"
   ]
  },
  {
   "cell_type": "code",
   "execution_count": 1,
   "metadata": {},
   "outputs": [
    {
     "name": "stdout",
     "output_type": "stream",
     "text": [
      "[2.74406752 3.57594683 3.01381688 2.72441591 2.118274   3.22947057\n",
      " 2.18793606 4.458865   4.8183138  1.91720759 3.95862519 2.6444746\n",
      " 2.84022281 4.62798319 0.35518029 0.4356465  0.10109199 4.16309923\n",
      " 3.89078375 4.35006074 4.89309171 3.99579282 2.30739681 3.90264588\n",
      " 0.59137213 3.19960511 0.71676644 4.72334459 2.60924161 2.0733097\n",
      " 1.32277806 3.87116845 2.28075166 2.84216974 0.093949   3.08817749\n",
      " 3.06047861 3.08466998 4.71874039 3.4091015  1.7975395  2.18515977\n",
      " 3.48815598 0.30112736 3.33383358 3.35318935 1.05191281 0.64463149\n",
      " 1.57714175 1.81855385 2.85098385 2.19300757 4.94186919 0.51022405\n",
      " 1.04438378 0.80654759 3.26554163 1.26645801 2.33155386 1.22212796\n",
      " 0.79484792 0.55187571 3.28164795 0.69091476 0.98291181 1.84362585\n",
      " 4.10496615 0.48550638 4.18972454 0.48049204 4.88229733 2.34325601\n",
      " 4.88380544 3.0242276  3.6963179  0.19593896 1.41403481 0.60098281\n",
      " 1.48070099 0.59363859 1.5899159  2.07131497 0.32073748 3.4623606\n",
      " 2.83300727 1.32694745 2.61624027 0.46970255 2.87973248 4.64648099\n",
      " 1.59284476 3.3370519  0.65898931 3.58163602 1.44703046 0.91595681\n",
      " 2.93256467 0.10053773 4.14470015 0.02347738 3.38908268 1.35003987\n",
      " 3.67597011 4.81094273 1.24376572 2.88078667 2.96020966 2.86125953\n",
      " 1.11540816 4.76374506 2.23562689 4.23204336 3.49739638 1.48718475\n",
      " 4.0689891  1.9825287  4.40551599 2.90636436 4.40867681 3.46265795\n",
      " 3.6262714  2.50662191 4.78041817 3.219951   2.11927524 3.03196607\n",
      " 0.09596599 1.50787408 3.30086769 1.45038804 3.09007714 2.1438435\n",
      " 0.67737032 1.49141163 2.84982455 2.95436381 2.87162624 3.2660041\n",
      " 3.26051635 2.15709218 4.48273298 1.83780935 2.17932463 4.45961678\n",
      " 4.03096995 3.51944292 0.50113444 4.59741307 3.5712065  4.99423503\n",
      " 0.74724152 4.34063029 0.81246467 3.07779782 0.61909991 4.24004115\n",
      " 4.03659479 2.84550369 2.03591649 0.34583498 3.48714387 2.26771341\n",
      " 3.610278   4.33191163 4.87760753 4.27901671 0.05857042 1.79989032\n",
      " 3.64995281 0.85814839 2.60518303 0.27168994 0.99998262 0.09260897\n",
      " 3.96848852 1.11962344 1.7267584  4.64040647 3.52207201 0.15919465\n",
      " 0.82347078 3.10739201 2.88614294 1.18946411 4.67106999 3.06982978\n",
      " 2.67816402 2.94954988 3.65061015 1.55972498 1.99110531 1.04921874\n",
      " 0.93096503 4.72186195 3.69775398 2.45229404 1.13707314 1.27178241\n",
      " 0.2901458  2.17208313 1.55897941 3.48171744 1.8887592  0.89801839\n",
      " 0.12339364 0.33624816 3.39696387 2.26848422 2.68289606 4.48335647\n",
      " 4.95169474 1.08448492 3.31539102 1.31661188 0.103255   3.79189327\n",
      " 1.60008575 1.91731947 2.94158557 4.15524228 3.14490922 4.36325328\n",
      " 1.36771017 3.99023417 0.92817972 4.76395828 3.43744138 1.07753839\n",
      " 4.73685295 3.65427903 1.26970821 1.06655989 2.59100357 0.12831359\n",
      " 1.03735038 2.12342734 1.8708499  2.31787712 1.38814353 2.93392173\n",
      " 4.31927803 0.58765928 2.58689554 0.66034053 3.58429841 1.98029851\n",
      " 2.82710656 0.91639918 0.7242388  2.4402814 ]\n"
     ]
    }
   ],
   "source": [
    "import numpy as np\n",
    "\n",
    "np.random.seed(0)\n",
    "#the code above prevents the data set from changing everytime this cell is run(a default behaviour of the random function)\n",
    " \n",
    "x = np.random.uniform(0.0, 5.0, 250) # this produces 250 values between 0.0 and 5.0\n",
    "\n",
    "print(x)"
   ]
  },
  {
   "cell_type": "markdown",
   "metadata": {},
   "source": [
    "### Histogram\n",
    "To visualize the data set we can draw a histogram with the data we collected.\n",
    "\n",
    "We will use the Python module Matplotlib to draw a histogram:"
   ]
  },
  {
   "cell_type": "code",
   "execution_count": 2,
   "metadata": {},
   "outputs": [
    {
     "data": {
      "image/png": "[encoded data removed]",
      "text/plain": [
       "<Figure size 432x288 with 1 Axes>"
      ]
     },
     "metadata": {
      "needs_background": "light"
     },
     "output_type": "display_data"
    }
   ],
   "source": [
    "import matplotlib.pyplot as plt\n",
    "\n",
    "plt.hist(x, 5)\n",
    "plt.show()"
   ]
  },
  {
   "cell_type": "markdown",
   "metadata": {},
   "source": [
    "##### Histogram Explained\n",
    "We use the array from the example above to draw a histogram with 5 bars.\n",
    "\n",
    "The first bar represents how many values in the array are between 0 and 1.\n",
    "\n",
    "The second bar represents how many values are between 1 and 2, Etc.\n",
    "\n",
    "Which gives us this result:\n",
    "\n",
    "* 51 values are between 0 and 1\n",
    "- 48 values are between 1 and 2\n",
    "+ 52 values are between 2 and 3\n",
    "- 54 values are between 3 and 4\n",
    "- 41 values are between 4 and 5"
   ]
  },
  {
   "cell_type": "markdown",
   "metadata": {},
   "source": [
    "##### A little note on the [random function](https://docs.scipy.org/doc/numpy-1.9.2/reference/generated/numpy.random.uniform.html)\n",
    "\n",
    "numpy.random.uniform(low=0.0, high=1.0, size=None): Draw samples from a uniform distribution.\n",
    "\n",
    "Samples are uniformly distributed over the half-open interval (low, high which includes low, but excludes high). In other words, any value within the given interval is equally likely to be drawn by uniform.\n",
    "\n",
    "Parameters:\t\n",
    "1. low (float, optional): Lower boundary of the output interval. All values generated will be greater than or equal to low. The default value is 0.\n",
    "\n",
    "2. high (float): Upper boundary of the output interval. All values generated will be less than high. The default value is 1.0.\n",
    "\n",
    "3. size (int or tuple of ints, optional): Output shape. If the given shape is, e.g., (m, n, k), then m * n * k samples are drawn. Default is None, in which case a single value is returned.\n",
    "\n",
    "Returns:\t\n",
    "1. out (ndarray): Drawn samples, with shape size.\n",
    "\n",
    "\n",
    "\n",
    "* randint: Discrete uniform distribution, yielding integers.\n",
    "\n",
    "+ random_integers: Discrete uniform distribution over the closed interval (low, high).\n",
    "\n",
    "- random_sample: Floats uniformly distributed over (0, 1).\n",
    "\n",
    "- random: Alias for random_sample.\n",
    "\n",
    "* rand: Convenience function that accepts dimensions as input, e.g., rand(2,2) would generate a 2-by-2 array of floats, uniformly distributed over (0, 1)."
   ]
  },
  {
   "cell_type": "markdown",
   "metadata": {},
   "source": [
    "## Big Data Distributions\n",
    "An array containing 250 values is not considered very big, but now you know how to create a random set of values, and by changing the parameters, you can create the data set as big as you want."
   ]
  },
  {
   "cell_type": "code",
   "execution_count": 8,
   "metadata": {},
   "outputs": [
    {
     "data": {
      "image/png": "[encoded data removed]",
      "text/plain": [
       "<Figure size 432x288 with 1 Axes>"
      ]
     },
     "metadata": {
      "needs_background": "light"
     },
     "output_type": "display_data"
    }
   ],
   "source": [
    "x = np.random.uniform(0.0, 5.0, 100000)\n",
    "\n",
    "plt.hist(x, 100)\n",
    "plt.show()"
   ]
  },
  {
   "cell_type": "markdown",
   "metadata": {},
   "source": [
    "## Normal Data Distribution"
   ]
  },
  {
   "cell_type": "markdown",
   "metadata": {},
   "source": [
    "Here we want to create an array where the values are concentrated around a given value.\n",
    "\n",
    "In probability theory this kind of data distribution is known as the **Normal Data Distribution,** or **the Gaussian data distribution,** after the mathematician **Carl Friedrich Gauss** who came up with the formula of this data distribution.\n",
    "\n",
    "The function np.random.normal(mean, standard deviation, size=shape), the example produces random numbers picked from a normal (Gaussian) distribution with the given mean and standard deviation."
   ]
  },
  {
   "cell_type": "code",
   "execution_count": 4,
   "metadata": {},
   "outputs": [
    {
     "data": {
      "image/png": "[encoded data removed]",
      "text/plain": [
       "<Figure size 432x288 with 1 Axes>"
      ]
     },
     "metadata": {
      "needs_background": "light"
     },
     "output_type": "display_data"
    }
   ],
   "source": [
    "# A typical normal data distribution:\n",
    "\n",
    "x = np.random.normal(5.0, 1.0, 100000)\n",
    "# I will like to try this line of code below later cos it is taking so long to run (it must be heavy)\n",
    "# x = np.random.normal(5.0, 1.0, size=(1000,1000))\n",
    "\n",
    "plt.hist(x, 100)\n",
    "plt.show()"
   ]
  },
  {
   "cell_type": "markdown",
   "metadata": {},
   "source": [
    "**Note:** A normal distribution graph is also known as the bell curve because of it's characteristic shape of a bell.\n",
    "\n",
    "#### Histogram Explained\n",
    "We use the array from the *numpy.random.normal()* method, with 100000 values, to draw a histogram with 100 bars.\n",
    "\n",
    "We specify that the mean value is 5.0, and the standard deviation is 1.0.\n",
    "\n",
    "Meaning that the values should be concentrated around 5.0, and rarely further away than 1.0 from the mean.\n",
    "\n",
    "And as you can see from the histogram, most values are between 4.0 and 6.0, with a top at approximately 5.0."
   ]
  },
  {
   "cell_type": "markdown",
   "metadata": {},
   "source": [
    "# Scatter Plot"
   ]
  },
  {
   "cell_type": "markdown",
   "metadata": {},
   "source": [
    "A scatter plot is a diagram where each value in the data set is represented by a dot.\n",
    "\n",
    "The Matplotlib module has a method for drawing scatter plots. It needs two arrays of the same length, one for the values of the x-axis, and one for the values of the y-axis.\n",
    "\n",
    "Use the scatter() method to draw a scatter plot diagram:"
   ]
  },
  {
   "cell_type": "code",
   "execution_count": 7,
   "metadata": {},
   "outputs": [
    {
     "data": {
      "text/plain": [
       "<matplotlib.collections.PathCollection at 0x16241348e08>"
      ]
     },
     "execution_count": 7,
     "metadata": {},
     "output_type": "execute_result"
    },
    {
     "data": {
      "image/png": "[encoded data removed]",
      "text/plain": [
       "<Figure size 432x288 with 1 Axes>"
      ]
     },
     "metadata": {
      "needs_background": "light"
     },
     "output_type": "display_data"
    }
   ],
   "source": [
    "car_age = [5,7,8,7,2,17,2,9,4,11,12,9,6]\n",
    "\n",
    "car_speed = [99,86,87,88,111,86,103,87,94,78,77,85,86]\n",
    "\n",
    "plt.scatter(car_age, car_speed) # car_age plotted(x-axis) is plotted against car_speed(y-axis)\n",
    "# plt.show() the graph showed without this line"
   ]
  },
  {
   "cell_type": "markdown",
   "metadata": {},
   "source": [
    "#### Scatter Plot Explained\n",
    "The x-axis represents ages, and the y-axis represents speeds.\n",
    "\n",
    "What we can read from the diagram is that the two fastest cars were both 2 years old, and the slowest car was 12 years old.\n",
    "\n",
    "**Note:** It seems that the newer the car, the faster it drives, but that could be a coincidence, after all we only registered 13 cars."
   ]
  },
  {
   "cell_type": "markdown",
   "metadata": {},
   "source": [
    "### Random Data Distributions"
   ]
  },
  {
   "cell_type": "markdown",
   "metadata": {},
   "source": [
    "In Machine Learning the data sets can contain thousands, or even millions of values.\n",
    "\n",
    "You might not have real world data when you are testing an algorithm, you might have to use randomly generated values.\n",
    "\n",
    "As we have seen previously, the NumPy module can help us with that!\n",
    "\n",
    "Let us create two arrays that are both filled with 1000 random numbers from a normal data distribution.\n",
    "\n",
    "The first array will have the mean set to 5.0 with a standard deviation of 1.0.\n",
    "\n",
    "The second array will have the mean set to 10.0 with a standard deviation of 2.0:"
   ]
  },
  {
   "cell_type": "code",
   "execution_count": 3,
   "metadata": {},
   "outputs": [
    {
     "data": {
      "text/plain": [
       "<matplotlib.collections.PathCollection at 0x2370347b3c8>"
      ]
     },
     "execution_count": 3,
     "metadata": {},
     "output_type": "execute_result"
    },
    {
     "data": {
      "image/png": "[encoded data removed]",
      "text/plain": [
       "<Figure size 432x288 with 1 Axes>"
      ]
     },
     "metadata": {
      "needs_background": "light"
     },
     "output_type": "display_data"
    }
   ],
   "source": [
    "import numpy as np\n",
    "import matplotlib.pyplot as plt\n",
    "# A scatter plot with 1000 dots:\n",
    "\n",
    "x = np.random.normal(5.0, 1.0, 1000)\n",
    "y = np.random.normal(10.0, 2.0, 1000)\n",
    "\n",
    "# plt.hist(x, y) ValueError: `bins` must increase monotonically, when an array\n",
    "# from the code above, we can't plot a histogram with the dataset x and y. It's best done with a scatter plot\n",
    "plt.scatter(x, y)"
   ]
  },
  {
   "cell_type": "markdown",
   "metadata": {},
   "source": [
    "#### Scatter Plot Explained\n",
    "We can see that the dots are concentrated around the value 5 on the x-axis, and 10 on the y-axis.\n",
    "\n",
    "We can also see that the spread is wider on the y-axis than on the x-axis."
   ]
  }
 ],
 "metadata": {
  "kernelspec": {
   "display_name": "Python 3",
   "language": "python",
   "name": "python3"
  },
  "language_info": {
   "codemirror_mode": {
    "name": "ipython",
    "version": 3
   },
   "file_extension": ".py",
   "mimetype": "text/x-python",
   "name": "python",
   "nbconvert_exporter": "python",
   "pygments_lexer": "ipython3",
   "version": "3.7.5"
  }
 },
 "nbformat": 4,
 "nbformat_minor": 4
}
